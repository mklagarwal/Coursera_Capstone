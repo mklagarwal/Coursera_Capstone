{
  "nbformat": 4,
  "nbformat_minor": 0,
  "metadata": {
    "colab": {
      "name": "Coursera_Final.ipynb",
      "provenance": []
    },
    "kernelspec": {
      "name": "python3",
      "display_name": "Python 3"
    }
  },
  "cells": [
    {
      "cell_type": "markdown",
      "metadata": {
        "id": "AimvyyCVTfF-",
        "colab_type": "text"
      },
      "source": [
        "#Coursera Capstone Project"
      ]
    },
    {
      "cell_type": "markdown",
      "metadata": {
        "id": "GjBJBSRYTfSy",
        "colab_type": "text"
      },
      "source": [
        "## This notebook contains the Capstone Project by Mukul Agarwal"
      ]
    },
    {
      "cell_type": "code",
      "metadata": {
        "id": "uJAZfbK1TuEC",
        "colab_type": "code",
        "colab": {}
      },
      "source": [
        "import pandas as pd\n",
        "import numpy as np"
      ],
      "execution_count": 1,
      "outputs": []
    },
    {
      "cell_type": "code",
      "metadata": {
        "id": "scoMQLm6Txfz",
        "colab_type": "code",
        "colab": {
          "base_uri": "https://localhost:8080/",
          "height": 34
        },
        "outputId": "cce49126-b4d8-4d83-ed4a-9d809c47dd2c"
      },
      "source": [
        "print('Hello Capstone Project Course!')"
      ],
      "execution_count": 2,
      "outputs": [
        {
          "output_type": "stream",
          "text": [
            "Hello Capstone Project Course!\n"
          ],
          "name": "stdout"
        }
      ]
    },
    {
      "cell_type": "code",
      "metadata": {
        "id": "EO_ioM6OT5oO",
        "colab_type": "code",
        "colab": {}
      },
      "source": [
        ""
      ],
      "execution_count": null,
      "outputs": []
    }
  ]
}